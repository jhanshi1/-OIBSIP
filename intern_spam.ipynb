{
 "cells": [
  {
   "cell_type": "markdown",
   "id": "96be76f3",
   "metadata": {},
   "source": [
    "# Importing Libraries"
   ]
  },
  {
   "cell_type": "code",
   "execution_count": 1,
   "id": "4439a0be",
   "metadata": {},
   "outputs": [],
   "source": [
    "import numpy as np\n",
    "import pandas as pd\n",
    "import matplotlib.pyplot as plt\n",
    "import seaborn as sns"
   ]
  },
  {
   "cell_type": "markdown",
   "id": "c84cf35d",
   "metadata": {},
   "source": [
    "# Importing dataset"
   ]
  },
  {
   "cell_type": "code",
   "execution_count": 2,
   "id": "2cb3ebbc",
   "metadata": {},
   "outputs": [
    {
     "name": "stdout",
     "output_type": "stream",
     "text": [
      "  labels                                                msg\n",
      "0    ham  Go until jurong point, crazy.. Available only ...\n",
      "1    ham                      Ok lar... Joking wif u oni...\n",
      "2   spam  Free entry in 2 a wkly comp to win FA Cup fina...\n",
      "3    ham  U dun say so early hor... U c already then say...\n",
      "4    ham  Nah I don't think he goes to usf, he lives aro...\n"
     ]
    }
   ],
   "source": [
    "data_set=pd.read_csv(\"spam.csv\",encoding=\"ISO-8859-1\",usecols=[0,1],skiprows=1,names=[\"labels\",\"msg\"])\n",
    "print(data_set.head())"
   ]
  },
  {
   "cell_type": "code",
   "execution_count": 3,
   "id": "3e49a585",
   "metadata": {},
   "outputs": [
    {
     "data": {
      "text/plain": [
       "Index(['labels', 'msg'], dtype='object')"
      ]
     },
     "execution_count": 3,
     "metadata": {},
     "output_type": "execute_result"
    }
   ],
   "source": [
    "data_set.columns"
   ]
  },
  {
   "cell_type": "code",
   "execution_count": 4,
   "id": "3360be2f",
   "metadata": {},
   "outputs": [
    {
     "data": {
      "text/plain": [
       "(5572, 2)"
      ]
     },
     "execution_count": 4,
     "metadata": {},
     "output_type": "execute_result"
    }
   ],
   "source": [
    "data_set.shape"
   ]
  },
  {
   "cell_type": "markdown",
   "id": "0143aad6",
   "metadata": {},
   "source": [
    "# Data modification"
   ]
  },
  {
   "cell_type": "code",
   "execution_count": 5,
   "id": "bf9d0c32",
   "metadata": {},
   "outputs": [],
   "source": [
    "data_set.replace({'labels':{'spam':0,'ham':1}},inplace=True)"
   ]
  },
  {
   "cell_type": "code",
   "execution_count": 6,
   "id": "5bbf7473",
   "metadata": {},
   "outputs": [
    {
     "data": {
      "text/html": [
       "<div>\n",
       "<style scoped>\n",
       "    .dataframe tbody tr th:only-of-type {\n",
       "        vertical-align: middle;\n",
       "    }\n",
       "\n",
       "    .dataframe tbody tr th {\n",
       "        vertical-align: top;\n",
       "    }\n",
       "\n",
       "    .dataframe thead th {\n",
       "        text-align: right;\n",
       "    }\n",
       "</style>\n",
       "<table border=\"1\" class=\"dataframe\">\n",
       "  <thead>\n",
       "    <tr style=\"text-align: right;\">\n",
       "      <th></th>\n",
       "      <th>labels</th>\n",
       "      <th>msg</th>\n",
       "    </tr>\n",
       "  </thead>\n",
       "  <tbody>\n",
       "    <tr>\n",
       "      <th>0</th>\n",
       "      <td>1</td>\n",
       "      <td>Go until jurong point, crazy.. Available only ...</td>\n",
       "    </tr>\n",
       "    <tr>\n",
       "      <th>1</th>\n",
       "      <td>1</td>\n",
       "      <td>Ok lar... Joking wif u oni...</td>\n",
       "    </tr>\n",
       "    <tr>\n",
       "      <th>2</th>\n",
       "      <td>0</td>\n",
       "      <td>Free entry in 2 a wkly comp to win FA Cup fina...</td>\n",
       "    </tr>\n",
       "    <tr>\n",
       "      <th>3</th>\n",
       "      <td>1</td>\n",
       "      <td>U dun say so early hor... U c already then say...</td>\n",
       "    </tr>\n",
       "    <tr>\n",
       "      <th>4</th>\n",
       "      <td>1</td>\n",
       "      <td>Nah I don't think he goes to usf, he lives aro...</td>\n",
       "    </tr>\n",
       "  </tbody>\n",
       "</table>\n",
       "</div>"
      ],
      "text/plain": [
       "   labels                                                msg\n",
       "0       1  Go until jurong point, crazy.. Available only ...\n",
       "1       1                      Ok lar... Joking wif u oni...\n",
       "2       0  Free entry in 2 a wkly comp to win FA Cup fina...\n",
       "3       1  U dun say so early hor... U c already then say...\n",
       "4       1  Nah I don't think he goes to usf, he lives aro..."
      ]
     },
     "execution_count": 6,
     "metadata": {},
     "output_type": "execute_result"
    }
   ],
   "source": [
    "data_set.head()"
   ]
  },
  {
   "cell_type": "markdown",
   "id": "eda37efc",
   "metadata": {},
   "source": [
    "# Summary of Dataset"
   ]
  },
  {
   "cell_type": "markdown",
   "id": "83c00413",
   "metadata": {},
   "source": [
    "# Checking Null Values"
   ]
  },
  {
   "cell_type": "code",
   "execution_count": 7,
   "id": "0d4dc6a9",
   "metadata": {},
   "outputs": [
    {
     "data": {
      "text/plain": [
       "labels    0\n",
       "msg       0\n",
       "dtype: int64"
      ]
     },
     "execution_count": 7,
     "metadata": {},
     "output_type": "execute_result"
    }
   ],
   "source": [
    "data_set.isnull().sum()"
   ]
  },
  {
   "cell_type": "markdown",
   "id": "895cbd48",
   "metadata": {},
   "source": [
    "# Checking differnt types of unique species"
   ]
  },
  {
   "cell_type": "code",
   "execution_count": 8,
   "id": "d4bd58b2",
   "metadata": {},
   "outputs": [
    {
     "name": "stdout",
     "output_type": "stream",
     "text": [
      "403\n"
     ]
    },
    {
     "data": {
      "text/plain": [
       "0"
      ]
     },
     "execution_count": 8,
     "metadata": {},
     "output_type": "execute_result"
    }
   ],
   "source": [
    "print(data_set.duplicated().sum())\n",
    "data_set=data_set.drop_duplicates()\n",
    "data_set.duplicated().sum()"
   ]
  },
  {
   "cell_type": "markdown",
   "id": "c32cfd34",
   "metadata": {},
   "source": [
    "# Data visualization"
   ]
  },
  {
   "cell_type": "code",
   "execution_count": 9,
   "id": "e80509e1",
   "metadata": {},
   "outputs": [
    {
     "data": {
      "image/png": "[encoded data removed]",
      "text/plain": [
       "<Figure size 640x480 with 1 Axes>"
      ]
     },
     "metadata": {},
     "output_type": "display_data"
    }
   ],
   "source": [
    "sns.countplot(x=\"labels\",data=data_set)\n",
    "plt.show()"
   ]
  },
  {
   "cell_type": "code",
   "execution_count": 10,
   "id": "0a9dd808",
   "metadata": {},
   "outputs": [
    {
     "data": {
      "image/png": "[encoded data removed]",
      "text/plain": [
       "<Figure size 640x480 with 1 Axes>"
      ]
     },
     "metadata": {},
     "output_type": "display_data"
    }
   ],
   "source": [
    "sns.barplot(data_set,y=data_set.msg.apply(len),x='labels')\n",
    "plt.show()"
   ]
  },
  {
   "cell_type": "markdown",
   "id": "398d136d",
   "metadata": {},
   "source": [
    "# Prediction"
   ]
  },
  {
   "cell_type": "code",
   "execution_count": 11,
   "id": "49ab1532",
   "metadata": {},
   "outputs": [],
   "source": [
    "x=data_set['msg']\n",
    "y=data_set['labels']"
   ]
  },
  {
   "cell_type": "code",
   "execution_count": 12,
   "id": "1458d351",
   "metadata": {},
   "outputs": [
    {
     "data": {
      "text/plain": [
       "0       Go until jurong point, crazy.. Available only ...\n",
       "1                           Ok lar... Joking wif u oni...\n",
       "2       Free entry in 2 a wkly comp to win FA Cup fina...\n",
       "3       U dun say so early hor... U c already then say...\n",
       "4       Nah I don't think he goes to usf, he lives aro...\n",
       "                              ...                        \n",
       "5567    This is the 2nd time we have tried 2 contact u...\n",
       "5568                Will Ì_ b going to esplanade fr home?\n",
       "5569    Pity, * was in mood for that. So...any other s...\n",
       "5570    The guy did some bitching but I acted like i'd...\n",
       "5571                           Rofl. Its true to its name\n",
       "Name: msg, Length: 5169, dtype: object"
      ]
     },
     "execution_count": 12,
     "metadata": {},
     "output_type": "execute_result"
    }
   ],
   "source": [
    "x"
   ]
  },
  {
   "cell_type": "code",
   "execution_count": 13,
   "id": "64b80fbf",
   "metadata": {},
   "outputs": [
    {
     "data": {
      "text/plain": [
       "0       1\n",
       "1       1\n",
       "2       0\n",
       "3       1\n",
       "4       1\n",
       "       ..\n",
       "5567    0\n",
       "5568    1\n",
       "5569    1\n",
       "5570    1\n",
       "5571    1\n",
       "Name: labels, Length: 5169, dtype: int64"
      ]
     },
     "execution_count": 13,
     "metadata": {},
     "output_type": "execute_result"
    }
   ],
   "source": [
    "y"
   ]
  },
  {
   "cell_type": "code",
   "execution_count": 14,
   "id": "363c0881",
   "metadata": {},
   "outputs": [],
   "source": [
    "from sklearn.model_selection import train_test_split\n",
    "x_train,x_test,y_train,y_test=train_test_split(x,y,test_size=0.2,random_state=42)"
   ]
  },
  {
   "cell_type": "code",
   "execution_count": 15,
   "id": "4903419f",
   "metadata": {
    "scrolled": false
   },
   "outputs": [
    {
     "name": "stdout",
     "output_type": "stream",
     "text": [
      "2228                       Those were my exact intentions\n",
      "5529                            What about this one then.\n",
      "2149                   Waaaat?? Lololo ok next time then!\n",
      "5058    Free video camera phones with Half Price line ...\n",
      "5051    Tick, tick, tick .... Where are you ? I could ...\n",
      "                              ...                        \n",
      "4740    Many more happy returns of the day. I wish you...\n",
      "474     Nice line said by a broken heart- Plz don't cu...\n",
      "3266                    Ok then i come n pick u at engin?\n",
      "4016    Eek that's a lot of time especially since Amer...\n",
      "879     U have a Secret Admirer who is looking 2 make ...\n",
      "Name: msg, Length: 4135, dtype: object\n",
      "1617                        Did u download the fring app?\n",
      "2064    Pass dis to all ur contacts n see wat u get! R...\n",
      "1272                                                Ok...\n",
      "3020                       Am in film ill call you later.\n",
      "3642    Sorry, left phone upstairs. OK, might be hecti...\n",
      "                              ...                        \n",
      "4146    Pls help me tell sura that i'm expecting a bat...\n",
      "1208                      Also maaaan are you missing out\n",
      "4795    URGENT This is our 2nd attempt to contact U. Y...\n",
      "3575    The sign of maturity is not when we start sayi...\n",
      "2820                Oh god..taken the teeth?is it paining\n",
      "Name: msg, Length: 1034, dtype: object\n",
      "2228    1\n",
      "5529    1\n",
      "2149    1\n",
      "5058    0\n",
      "5051    1\n",
      "       ..\n",
      "4740    1\n",
      "474     1\n",
      "3266    1\n",
      "4016    1\n",
      "879     0\n",
      "Name: labels, Length: 4135, dtype: int64\n",
      "1617    1\n",
      "2064    1\n",
      "1272    1\n",
      "3020    1\n",
      "3642    1\n",
      "       ..\n",
      "4146    1\n",
      "1208    1\n",
      "4795    0\n",
      "3575    1\n",
      "2820    1\n",
      "Name: labels, Length: 1034, dtype: int64\n"
     ]
    }
   ],
   "source": [
    "print(x_train)\n",
    "print(x_test)\n",
    "print(y_train)\n",
    "print(y_test)"
   ]
  },
  {
   "cell_type": "code",
   "execution_count": 16,
   "id": "fed54b7d",
   "metadata": {},
   "outputs": [],
   "source": [
    "from sklearn.feature_extraction.text import CountVectorizer\n",
    "cv=CountVectorizer()\n",
    "x_train=cv.fit_transform(x_train)\n",
    "x_test=cv.transform(x_test)"
   ]
  },
  {
   "cell_type": "code",
   "execution_count": 17,
   "id": "f85dc291",
   "metadata": {},
   "outputs": [
    {
     "name": "stdout",
     "output_type": "stream",
     "text": [
      "  (0, 6765)\t1\n",
      "  (0, 7353)\t1\n",
      "  (0, 4593)\t1\n",
      "  (0, 2667)\t1\n",
      "  (0, 3660)\t1\n",
      "  (1, 7369)\t1\n",
      "  (1, 736)\t1\n",
      "  (1, 6758)\t1\n",
      "  (1, 4877)\t1\n",
      "  (1, 6731)\t1\n",
      "  (2, 6731)\t1\n",
      "  (2, 7233)\t1\n",
      "  (2, 4127)\t1\n",
      "  (2, 4851)\t1\n",
      "  (2, 4692)\t1\n",
      "  (2, 6807)\t1\n",
      "  (3, 2952)\t1\n",
      "  (3, 7172)\t1\n",
      "  (3, 1603)\t1\n",
      "  (3, 5126)\t1\n",
      "  (3, 7444)\t1\n",
      "  (3, 3266)\t1\n",
      "  (3, 5344)\t1\n",
      "  (3, 4066)\t1\n",
      "  (3, 5626)\t1\n",
      "  :\t:\n",
      "  (4133, 2515)\t1\n",
      "  (4133, 5145)\t1\n",
      "  (4133, 6081)\t1\n",
      "  (4134, 7444)\t1\n",
      "  (4134, 1582)\t1\n",
      "  (4134, 3319)\t1\n",
      "  (4134, 2829)\t1\n",
      "  (4134, 4950)\t1\n",
      "  (4134, 6184)\t1\n",
      "  (4134, 7098)\t1\n",
      "  (4134, 6743)\t1\n",
      "  (4134, 4266)\t1\n",
      "  (4134, 3702)\t1\n",
      "  (4134, 4871)\t1\n",
      "  (4134, 7391)\t3\n",
      "  (4134, 1949)\t1\n",
      "  (4134, 4138)\t1\n",
      "  (4134, 6265)\t1\n",
      "  (4134, 5892)\t1\n",
      "  (4134, 802)\t1\n",
      "  (4134, 5688)\t1\n",
      "  (4134, 6754)\t1\n",
      "  (4134, 216)\t1\n",
      "  (4134, 6395)\t1\n",
      "  (4134, 45)\t1\n",
      "  (0, 996)\t1\n",
      "  (0, 2276)\t1\n",
      "  (0, 2411)\t1\n",
      "  (0, 6719)\t1\n",
      "  (1, 890)\t1\n",
      "  (1, 1350)\t1\n",
      "  (1, 1381)\t1\n",
      "  (1, 1870)\t1\n",
      "  (1, 1951)\t1\n",
      "  (1, 2317)\t1\n",
      "  (1, 2721)\t1\n",
      "  (1, 3084)\t1\n",
      "  (1, 3110)\t1\n",
      "  (1, 3127)\t1\n",
      "  (1, 3202)\t1\n",
      "  (1, 3465)\t1\n",
      "  (1, 3594)\t1\n",
      "  (1, 3764)\t1\n",
      "  (1, 4207)\t1\n",
      "  (1, 4346)\t1\n",
      "  (1, 4443)\t1\n",
      "  (1, 4593)\t1\n",
      "  (1, 4799)\t1\n",
      "  (1, 4825)\t1\n",
      "  (1, 4871)\t1\n",
      "  :\t:\n",
      "  (1032, 1508)\t1\n",
      "  (1032, 1548)\t1\n",
      "  (1032, 2639)\t1\n",
      "  (1032, 3319)\t1\n",
      "  (1032, 3702)\t2\n",
      "  (1032, 3713)\t1\n",
      "  (1032, 4696)\t1\n",
      "  (1032, 4759)\t1\n",
      "  (1032, 4825)\t1\n",
      "  (1032, 5846)\t1\n",
      "  (1032, 6060)\t1\n",
      "  (1032, 6145)\t1\n",
      "  (1032, 6347)\t2\n",
      "  (1032, 6719)\t1\n",
      "  (1032, 6749)\t2\n",
      "  (1032, 7042)\t1\n",
      "  (1032, 7305)\t2\n",
      "  (1032, 7376)\t2\n",
      "  (1033, 3133)\t1\n",
      "  (1033, 3702)\t1\n",
      "  (1033, 3713)\t1\n",
      "  (1033, 4846)\t1\n",
      "  (1033, 6589)\t1\n",
      "  (1033, 6649)\t1\n",
      "  (1033, 6719)\t1\n"
     ]
    }
   ],
   "source": [
    "print(x_train)\n",
    "print(x_test)"
   ]
  },
  {
   "cell_type": "code",
   "execution_count": 18,
   "id": "6b3121c0",
   "metadata": {},
   "outputs": [
    {
     "data": {
      "text/html": [
       "<style>#sk-container-id-1 {color: black;}#sk-container-id-1 pre{padding: 0;}#sk-container-id-1 div.sk-toggleable {background-color: white;}#sk-container-id-1 label.sk-toggleable__label {cursor: pointer;display: block;width: 100%;margin-bottom: 0;padding: 0.3em;box-sizing: border-box;text-align: center;}#sk-container-id-1 label.sk-toggleable__label-arrow:before {content: \"▸\";float: left;margin-right: 0.25em;color: #696969;}#sk-container-id-1 label.sk-toggleable__label-arrow:hover:before {color: black;}#sk-container-id-1 div.sk-estimator:hover label.sk-toggleable__label-arrow:before {color: black;}#sk-container-id-1 div.sk-toggleable__content {max-height: 0;max-width: 0;overflow: hidden;text-align: left;background-color: #f0f8ff;}#sk-container-id-1 div.sk-toggleable__content pre {margin: 0.2em;color: black;border-radius: 0.25em;background-color: #f0f8ff;}#sk-container-id-1 input.sk-toggleable__control:checked~div.sk-toggleable__content {max-height: 200px;max-width: 100%;overflow: auto;}#sk-container-id-1 input.sk-toggleable__control:checked~label.sk-toggleable__label-arrow:before {content: \"▾\";}#sk-container-id-1 div.sk-estimator input.sk-toggleable__control:checked~label.sk-toggleable__label {background-color: #d4ebff;}#sk-container-id-1 div.sk-label input.sk-toggleable__control:checked~label.sk-toggleable__label {background-color: #d4ebff;}#sk-container-id-1 input.sk-hidden--visually {border: 0;clip: rect(1px 1px 1px 1px);clip: rect(1px, 1px, 1px, 1px);height: 1px;margin: -1px;overflow: hidden;padding: 0;position: absolute;width: 1px;}#sk-container-id-1 div.sk-estimator {font-family: monospace;background-color: #f0f8ff;border: 1px dotted black;border-radius: 0.25em;box-sizing: border-box;margin-bottom: 0.5em;}#sk-container-id-1 div.sk-estimator:hover {background-color: #d4ebff;}#sk-container-id-1 div.sk-parallel-item::after {content: \"\";width: 100%;border-bottom: 1px solid gray;flex-grow: 1;}#sk-container-id-1 div.sk-label:hover label.sk-toggleable__label {background-color: #d4ebff;}#sk-container-id-1 div.sk-serial::before {content: \"\";position: absolute;border-left: 1px solid gray;box-sizing: border-box;top: 0;bottom: 0;left: 50%;z-index: 0;}#sk-container-id-1 div.sk-serial {display: flex;flex-direction: column;align-items: center;background-color: white;padding-right: 0.2em;padding-left: 0.2em;position: relative;}#sk-container-id-1 div.sk-item {position: relative;z-index: 1;}#sk-container-id-1 div.sk-parallel {display: flex;align-items: stretch;justify-content: center;background-color: white;position: relative;}#sk-container-id-1 div.sk-item::before, #sk-container-id-1 div.sk-parallel-item::before {content: \"\";position: absolute;border-left: 1px solid gray;box-sizing: border-box;top: 0;bottom: 0;left: 50%;z-index: -1;}#sk-container-id-1 div.sk-parallel-item {display: flex;flex-direction: column;z-index: 1;position: relative;background-color: white;}#sk-container-id-1 div.sk-parallel-item:first-child::after {align-self: flex-end;width: 50%;}#sk-container-id-1 div.sk-parallel-item:last-child::after {align-self: flex-start;width: 50%;}#sk-container-id-1 div.sk-parallel-item:only-child::after {width: 0;}#sk-container-id-1 div.sk-dashed-wrapped {border: 1px dashed gray;margin: 0 0.4em 0.5em 0.4em;box-sizing: border-box;padding-bottom: 0.4em;background-color: white;}#sk-container-id-1 div.sk-label label {font-family: monospace;font-weight: bold;display: inline-block;line-height: 1.2em;}#sk-container-id-1 div.sk-label-container {text-align: center;}#sk-container-id-1 div.sk-container {/* jupyter's `normalize.less` sets `[hidden] { display: none; }` but bootstrap.min.css set `[hidden] { display: none !important; }` so we also need the `!important` here to be able to override the default hidden behavior on the sphinx rendered scikit-learn.org. See: https://github.com/scikit-learn/scikit-learn/issues/21755 */display: inline-block !important;position: relative;}#sk-container-id-1 div.sk-text-repr-fallback {display: none;}</style><div id=\"sk-container-id-1\" class=\"sk-top-container\"><div class=\"sk-text-repr-fallback\"><pre>SVC(kernel=&#x27;linear&#x27;)</pre><b>In a Jupyter environment, please rerun this cell to show the HTML representation or trust the notebook. <br />On GitHub, the HTML representation is unable to render, please try loading this page with nbviewer.org.</b></div><div class=\"sk-container\" hidden><div class=\"sk-item\"><div class=\"sk-estimator sk-toggleable\"><input class=\"sk-toggleable__control sk-hidden--visually\" id=\"sk-estimator-id-1\" type=\"checkbox\" checked><label for=\"sk-estimator-id-1\" class=\"sk-toggleable__label sk-toggleable__label-arrow\">SVC</label><div class=\"sk-toggleable__content\"><pre>SVC(kernel=&#x27;linear&#x27;)</pre></div></div></div></div></div>"
      ],
      "text/plain": [
       "SVC(kernel='linear')"
      ]
     },
     "execution_count": 18,
     "metadata": {},
     "output_type": "execute_result"
    }
   ],
   "source": [
    "from sklearn.svm import SVC\n",
    "classifier=SVC(kernel='linear')\n",
    "classifier.fit(x_train,y_train)"
   ]
  },
  {
   "cell_type": "code",
   "execution_count": 19,
   "id": "b78d9c89",
   "metadata": {},
   "outputs": [
    {
     "name": "stdout",
     "output_type": "stream",
     "text": [
      "[1 1 1 ... 0 1 1]\n",
      "1617    1\n",
      "2064    1\n",
      "1272    1\n",
      "3020    1\n",
      "3642    1\n",
      "       ..\n",
      "4146    1\n",
      "1208    1\n",
      "4795    0\n",
      "3575    1\n",
      "2820    1\n",
      "Name: labels, Length: 1034, dtype: int64\n"
     ]
    }
   ],
   "source": [
    "y_pred=classifier.predict(x_test)\n",
    "print(y_pred)\n",
    "print(y_test)"
   ]
  },
  {
   "cell_type": "code",
   "execution_count": 20,
   "id": "9475c54b",
   "metadata": {},
   "outputs": [
    {
     "name": "stdout",
     "output_type": "stream",
     "text": [
      "[[129  16]\n",
      " [  1 888]]\n"
     ]
    },
    {
     "data": {
      "text/plain": [
       "0.9835589941972921"
      ]
     },
     "execution_count": 20,
     "metadata": {},
     "output_type": "execute_result"
    }
   ],
   "source": [
    "from sklearn.metrics import accuracy_score,confusion_matrix\n",
    "cm=confusion_matrix(y_test,y_pred)\n",
    "print(cm)\n",
    "accuracy_score(y_test,y_pred)"
   ]
  },
  {
   "cell_type": "code",
   "execution_count": null,
   "id": "bf6025e3",
   "metadata": {},
   "outputs": [],
   "source": []
  }
 ],
 "metadata": {
  "kernelspec": {
   "display_name": "Python 3 (ipykernel)",
   "language": "python",
   "name": "python3"
  },
  "language_info": {
   "codemirror_mode": {
    "name": "ipython",
    "version": 3
   },
   "file_extension": ".py",
   "mimetype": "text/x-python",
   "name": "python",
   "nbconvert_exporter": "python",
   "pygments_lexer": "ipython3",
   "version": "3.11.5"
  }
 },
 "nbformat": 4,
 "nbformat_minor": 5
}
